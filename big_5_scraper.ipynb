{
 "cells": [
  {
   "cell_type": "code",
   "execution_count": 4,
   "metadata": {},
   "outputs": [],
   "source": [
    "from bs4 import BeautifulSoup\n",
    "import requests\n",
    "import csv"
   ]
  },
  {
   "cell_type": "code",
   "execution_count": 6,
   "metadata": {},
   "outputs": [],
   "source": [
    "countries = {\"ITA\": \"Italy\",\"GER\":\"Germany\",\"FRA\":\"France\",\"ESP\":\"Spain\",\"ENG\":\"England\",}\n",
    "\n",
    "with open('big_5_stats.csv','w') as csv_file:\n",
    "    csv_writer = csv.writer(csv_file)\n",
    "    csv_writer.writerow(['Squad','Country','League Rank','Matches Played','Goals Scored','Goals Against','Attendance','Points Per Game','Win %'])\n",
    "\n",
    "    site = requests.get('https://fbref.com/en/comps/Big5/Big-5-European-Leagues-Stats#all_big5_table').text\n",
    "    soup = BeautifulSoup(site, 'html')\n",
    "    table = soup.find('tbody')\n",
    "    rows = table.find_all('tr')\n",
    "    for row in rows:\n",
    "        data = row.find_all('td')\n",
    "        squad = \" \".join(str(data[0].a).split('\"')[1].split(\"/\")[-1].split(\"-\")[:-1])\n",
    "        data = list(map(lambda x:x.text, data))\n",
    "        country = countries[data[1].split()[-1].strip()]\n",
    "        rank = data[2]\n",
    "        matches_played = data[3]\n",
    "        goals_scored = data[7]\n",
    "        goals_against = data[8]\n",
    "        attendance = data[17].replace(\",\", \"\")\n",
    "        ppg = data[11]\n",
    "        winpercent = round(int(data[4])/int(matches_played),2)\n",
    "        csv_writer.writerow([squad,country,rank,matches_played,goals_scored,goals_against,attendance,ppg,winpercent])\n",
    "\n",
    "\n",
    "    "
   ]
  },
  {
   "cell_type": "code",
   "execution_count": null,
   "metadata": {},
   "outputs": [],
   "source": []
  }
 ],
 "metadata": {
  "kernelspec": {
   "display_name": "venv",
   "language": "python",
   "name": "python3"
  },
  "language_info": {
   "codemirror_mode": {
    "name": "ipython",
    "version": 3
   },
   "file_extension": ".py",
   "mimetype": "text/x-python",
   "name": "python",
   "nbconvert_exporter": "python",
   "pygments_lexer": "ipython3",
   "version": "3.11.8"
  }
 },
 "nbformat": 4,
 "nbformat_minor": 2
}
